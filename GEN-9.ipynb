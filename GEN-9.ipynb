{
 "cells": [
  {
   "cell_type": "code",
   "execution_count": null,
   "metadata": {},
   "outputs": [],
   "source": [
    "pip install pydantic wikipedia"
   ]
  },
  {
   "cell_type": "code",
   "execution_count": 7,
   "metadata": {},
   "outputs": [
    {
     "name": "stdout",
     "output_type": "stream",
     "text": [
      "founder='Unknown' founded_year='Unknown' branches='Unknown' employees='Unknown' summary='Sambhram Institute of Technology was started in 2001 in Bangalore, Karnataka, India. It is a private self funding  institution, affiliated to Visvesvaraya Technological University It is approved by AICTE, Government of Karnataka & VTU.AICTE. The campus is situated in M.S.Palya, Jalahalli East, Bangalore-97, India.\\n\\n\\n== Courses offered ==\\nMechanical Engineering\\nComputer Science and Engineering\\nInformation Science and Engineering\\nElectronics and Communication Engineering\\nCivil Engineering\\nArtificial Intelligence and Machine Learning\\nArtificial Intelligence and Data Science\\nCyber Security\\n\\n\\n== Verticals ==\\nEstablished in 2001 by  Sambhram Education Trust, under  the Sambhram Group of Institutions. the organization manages 12 educational institutions in the states of Karnataka and Andhra Pradesh that provide education  at the secondary, pre-university, UG , PG and PhD levels.'\n"
     ]
    }
   ],
   "source": [
    "from pydantic import BaseModel\n",
    "import wikipedia\n",
    "\n",
    "# Define Pydantic schema\n",
    "class Institution(BaseModel):\n",
    "    founder: str\n",
    "    founded_year: str\n",
    "    branches: str\n",
    "    employees: str\n",
    "    summary: str\n",
    "\n",
    "# Input institution\n",
    "institution_name = input(\"Enter institution name: \")\n",
    "\n",
    "# Fetch Wikipedia page\n",
    "wiki_page = wikipedia.page(institution_name)\n",
    "\n",
    "# Extract details (simplified, you may need to parse infobox)\n",
    "content = wiki_page.content\n",
    "summary = wikipedia.summary(institution_name, sentences=4)\n",
    "\n",
    "# Dummy extraction (replace with actual parsing logic)\n",
    "output = Institution(\n",
    "    founder=\"Unknown\",  # Parse from infobox\n",
    "    founded_year=\"Unknown\",  # Parse from infobox\n",
    "    branches=\"Unknown\",  # Parse from infobox\n",
    "    employees=\"Unknown\",  # Parse from infobox\n",
    "    summary=summary\n",
    ")\n",
    "\n",
    "print(output)"
   ]
  }
 ],
 "metadata": {
  "kernelspec": {
   "display_name": "gpu",
   "language": "python",
   "name": "python3"
  },
  "language_info": {
   "codemirror_mode": {
    "name": "ipython",
    "version": 3
   },
   "file_extension": ".py",
   "mimetype": "text/x-python",
   "name": "python",
   "nbconvert_exporter": "python",
   "pygments_lexer": "ipython3",
   "version": "3.12.9"
  }
 },
 "nbformat": 4,
 "nbformat_minor": 2
}
