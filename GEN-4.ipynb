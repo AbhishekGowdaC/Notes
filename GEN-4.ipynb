{
 "cells": [
  {
   "cell_type": "code",
   "execution_count": null,
   "metadata": {},
   "outputs": [],
   "source": [
    "pip install gensim transformers"
   ]
  },
  {
   "cell_type": "code",
   "execution_count": 3,
   "metadata": {},
   "outputs": [
    {
     "name": "stderr",
     "output_type": "stream",
     "text": [
      "C:\\Users\\yoge8\\AppData\\Roaming\\Python\\Python312\\site-packages\\tqdm\\auto.py:21: TqdmWarning: IProgress not found. Please update jupyter and ipywidgets. See https://ipywidgets.readthedocs.io/en/stable/user_install.html\n",
      "  from .autonotebook import tqdm as notebook_tqdm\n",
      "Xet Storage is enabled for this repo, but the 'hf_xet' package is not installed. Falling back to regular HTTP download. For better performance, install the package with: `pip install huggingface_hub[hf_xet]` or `pip install hf_xet`\n",
      "Device set to use cpu\n",
      "Truncation was not explicitly activated but `max_length` is provided a specific value, please use `truncation=True` to explicitly truncate examples to max length. Defaulting to 'longest_first' truncation strategy. If you encode pairs of sequences (GLUE-style) with the tokenizer you can select this strategy more precisely by providing a specific strategy to `truncation`.\n",
      "Setting `pad_token_id` to `eos_token_id`:50256 for open-end generation.\n",
      "Both `max_new_tokens` (=256) and `max_length`(=50) seem to have been set. `max_new_tokens` will take precedence. Please refer to the documentation for more information. (https://huggingface.co/docs/transformers/main/en/main_classes/text_generation)\n",
      "Setting `pad_token_id` to `eos_token_id`:50256 for open-end generation.\n",
      "Both `max_new_tokens` (=256) and `max_length`(=50) seem to have been set. `max_new_tokens` will take precedence. Please refer to the documentation for more information. (https://huggingface.co/docs/transformers/main/en/main_classes/text_generation)\n"
     ]
    },
    {
     "name": "stdout",
     "output_type": "stream",
     "text": [
      "Original: Describe a futuristic city.\n",
      "\n",
      "The most popular book of 2015 by the author of The Great Gatsby is The Making of America (2008). The book is a fascinating read and has been downloaded over 100,000 times.\n",
      "\n",
      "The Greatest Book of All Time by George R. R. Martin\n",
      "\n",
      "The greatest book of all time is The Hobbit. I have been listening to it for the past few years and I think it is one of those books that will probably never be reviewed.\n",
      "\n",
      "The Book of the Dead by Philip K Dick\n",
      "\n",
      "The best story ever told or read by an American author.\n",
      "\n",
      "The Big Bang Theory by James Tynion IV\n",
      "\n",
      "The greatest story ever told or read by an American author.\n",
      "\n",
      "The X-Files by George Orwell\n",
      "\n",
      "The best story ever told or read by an American author.\n",
      "\n",
      "The True Story of The Beatles by Stephen King\n",
      "\n",
      "The greatest story ever told or read by an American author.\n",
      "\n",
      "The Twilight Zone by J.K. Rowling\n",
      "\n",
      "The best story ever told or read by an American author.\n",
      "\n",
      "The Unfinished Swan by Jack Kerouac\n",
      "\n",
      "The best story ever told or read by an American author.\n",
      "\n",
      "The Wicker Man by William Gibson\n",
      "\n",
      "The\n",
      "Enriched: Describe a sleek, retro, fantastical city.\n",
      "\n",
      "The City: City of the Sun is a new and beautifully illustrated story about the life of an artist who created a beautiful design for a new digital art gallery. It begins with an artist's hand drawn character. A character who looks like a human being is drawn into the city, but is also a small, cartoonishly grotesque creature with a penchant for being made of plastic and plastic-shaped objects. The character is created by artist Paul B. Brantley in the late 1990s, and ends up drawn in the style of a character from the film The Man Who Would Be King.\n",
      "\n",
      "The City: City of the Sun is made up of eight stories of characters from the artist's life. The first story is an early story of a young man who is trying to make something out of the rubble of a major building and must make it his own. The second story is a story about a young woman who is trying to get her own design made. The third story is a story about a young architect trying to figure out how to build an apartment building. The fourth story is a story about a young woman trying to get her own design made. The fifth story is a story about a young artist trying to figure out how to create a new kind of art\n"
     ]
    }
   ],
   "source": [
    "import gensim.downloader as api\n",
    "from transformers import pipeline\n",
    "\n",
    "# Load embeddings and generator\n",
    "model = api.load(\"glove-wiki-gigaword-100\")\n",
    "generator = pipeline(\"text-generation\", model=\"gpt2\")\n",
    "\n",
    "# Original prompt\n",
    "original_prompt = \"Describe a futuristic city.\"\n",
    "\n",
    "# Enrich prompt\n",
    "word = \"futuristic\"\n",
    "similar_words = [w for w, _ in model.most_similar(word, topn=3)]  # e.g., advanced, modern, innovative\n",
    "enriched_prompt = f\"Describe a {', '.join(similar_words)} city.\"\n",
    "\n",
    "# Generate outputs\n",
    "original_output = generator(original_prompt, max_length=50)[0]['generated_text']\n",
    "enriched_output = generator(enriched_prompt, max_length=50)[0]['generated_text']\n",
    "\n",
    "print(\"Original:\", original_output)\n",
    "print(\"Enriched:\", enriched_output)"
   ]
  }
 ],
 "metadata": {
  "kernelspec": {
   "display_name": "gpu",
   "language": "python",
   "name": "python3"
  },
  "language_info": {
   "codemirror_mode": {
    "name": "ipython",
    "version": 3
   },
   "file_extension": ".py",
   "mimetype": "text/x-python",
   "name": "python",
   "nbconvert_exporter": "python",
   "pygments_lexer": "ipython3",
   "version": "3.12.9"
  }
 },
 "nbformat": 4,
 "nbformat_minor": 2
}
