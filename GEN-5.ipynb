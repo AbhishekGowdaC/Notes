{
 "cells": [
  {
   "cell_type": "code",
   "execution_count": null,
   "metadata": {},
   "outputs": [],
   "source": [
    "pip install gensim transformers"
   ]
  },
  {
   "cell_type": "code",
   "execution_count": 1,
   "metadata": {},
   "outputs": [
    {
     "name": "stdout",
     "output_type": "stream",
     "text": [
      "Feeling happy, she danced with 'm energy. Her feel smile lit up the room, spreading 're vibes. Everyone was i to join her.\n"
     ]
    }
   ],
   "source": [
    "import gensim.downloader as api\n",
    "\n",
    "# Load model\n",
    "model = api.load(\"glove-wiki-gigaword-100\")\n",
    "\n",
    "# Input seed word\n",
    "seed_word = \"happy\"\n",
    "\n",
    "# Get similar words\n",
    "similar_words = [w for w, _ in model.most_similar(seed_word, topn=4)]  # e.g., joyful, cheerful, glad, delighted\n",
    "\n",
    "# Construct paragraph\n",
    "paragraph = f\"Feeling {seed_word}, she danced with {similar_words[0]} energy. Her {similar_words[1]} smile lit up the room, spreading {similar_words[2]} vibes. Everyone was {similar_words[3]} to join her.\"\n",
    "print(paragraph)"
   ]
  }
 ],
 "metadata": {
  "kernelspec": {
   "display_name": "gpu",
   "language": "python",
   "name": "python3"
  },
  "language_info": {
   "codemirror_mode": {
    "name": "ipython",
    "version": 3
   },
   "file_extension": ".py",
   "mimetype": "text/x-python",
   "name": "python",
   "nbconvert_exporter": "python",
   "pygments_lexer": "ipython3",
   "version": "3.12.9"
  }
 },
 "nbformat": 4,
 "nbformat_minor": 2
}
