{
 "cells": [
  {
   "cell_type": "code",
   "execution_count": null,
   "metadata": {},
   "outputs": [],
   "source": [
    "pip install gensim transformers"
   ]
  },
  {
   "cell_type": "code",
   "execution_count": 2,
   "metadata": {},
   "outputs": [
    {
     "name": "stderr",
     "output_type": "stream",
     "text": [
      "Xet Storage is enabled for this repo, but the 'hf_xet' package is not installed. Falling back to regular HTTP download. For better performance, install the package with: `pip install huggingface_hub[hf_xet]` or `pip install hf_xet`\n",
      "Device set to use cpu\n"
     ]
    },
    {
     "name": "stdout",
     "output_type": "stream",
     "text": [
      "Summary: Artificial intelligence is transforming industries worldwide. From healthcare to finance, AI is being used to analyze data, automate tasks, and improve decision-making. However, ethical concerns like bias and privacy remain challenges.\n"
     ]
    }
   ],
   "source": [
    "from transformers import pipeline\n",
    "\n",
    "# Load summarization pipeline\n",
    "summarizer = pipeline(\"summarization\", model=\"facebook/bart-large-cnn\")\n",
    "\n",
    "# Input passage\n",
    "passage = \"\"\"\n",
    "Artificial intelligence is transforming industries worldwide. From healthcare to finance, AI is being used to analyze data, automate tasks, and improve decision-making. In healthcare, AI helps diagnose diseases and predict patient outcomes. In finance, it detects fraud and optimizes trading strategies. However, ethical concerns like bias and privacy remain challenges.\n",
    "\"\"\"\n",
    "\n",
    "# Summarize\n",
    "summary = summarizer(passage, max_length=50, min_length=25, do_sample=False)[0]['summary_text']\n",
    "print(\"Summary:\", summary)"
   ]
  }
 ],
 "metadata": {
  "kernelspec": {
   "display_name": "gpu",
   "language": "python",
   "name": "python3"
  },
  "language_info": {
   "codemirror_mode": {
    "name": "ipython",
    "version": 3
   },
   "file_extension": ".py",
   "mimetype": "text/x-python",
   "name": "python",
   "nbconvert_exporter": "python",
   "pygments_lexer": "ipython3",
   "version": "3.12.9"
  }
 },
 "nbformat": 4,
 "nbformat_minor": 2
}
