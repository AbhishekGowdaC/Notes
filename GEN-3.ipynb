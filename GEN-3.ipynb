{
 "cells": [
  {
   "cell_type": "code",
   "execution_count": null,
   "metadata": {},
   "outputs": [],
   "source": [
    "pip install gensim"
   ]
  },
  {
   "cell_type": "code",
   "execution_count": 6,
   "metadata": {},
   "outputs": [
    {
     "name": "stdout",
     "output_type": "stream",
     "text": [
      "[('recovery', 0.17827315628528595), ('on', 0.16072483360767365), ('cancer', 0.10560770332813263)]\n",
      "[ 7.6966463e-03  9.1206422e-03  1.1355019e-03 -8.3250795e-03\n",
      "  8.4250160e-03 -3.6962307e-03  5.7421732e-03  4.3915794e-03\n",
      "  9.6899448e-03 -9.2934975e-03  9.2084054e-03 -9.2815282e-03\n",
      " -6.9077122e-03 -9.1021946e-03 -5.5471100e-03  7.3688962e-03\n",
      "  9.1644777e-03 -3.3253515e-03  3.7230505e-03 -3.6252034e-03\n",
      "  7.8814710e-03  5.8668759e-03  2.0861626e-07 -3.6286747e-03\n",
      " -7.2243060e-03  4.7686161e-03  1.4529788e-03 -2.6131857e-03\n",
      "  7.8378068e-03 -4.0496145e-03 -9.1489861e-03 -2.2554707e-03\n",
      "  1.2514711e-04 -6.6392552e-03 -5.4866159e-03 -8.4997769e-03\n",
      "  9.2298733e-03  7.4240281e-03 -2.9524326e-04  7.3676636e-03\n",
      "  7.9507884e-03 -7.8357337e-04  6.6120909e-03  3.7675237e-03\n",
      "  5.0768424e-03  7.2529912e-03 -4.7393893e-03 -2.1855331e-03\n",
      "  8.7312341e-04  4.2362059e-03  3.3043313e-03  5.0958274e-03\n",
      "  4.5864857e-03 -8.4385090e-03 -3.1838394e-03 -7.2367596e-03\n",
      "  9.6814223e-03  5.0065992e-03  1.7084122e-04  4.1129780e-03\n",
      " -7.6561309e-03 -6.2946510e-03  3.0763936e-03  6.5346383e-03\n",
      "  3.9498745e-03  6.0180221e-03 -1.9861318e-03 -3.3451295e-03\n",
      "  2.0717025e-04 -3.1943608e-03 -5.5169044e-03 -7.7885604e-03\n",
      "  6.5355431e-03 -1.0903371e-03 -1.8908798e-03 -7.8047751e-03\n",
      "  9.3375733e-03  8.6814165e-04  1.7696369e-03  2.4916660e-03\n",
      " -7.3859929e-03  1.6388226e-03  2.9765631e-03 -8.5670296e-03\n",
      "  4.9558021e-03  2.4334085e-03  7.4979127e-03  5.0442982e-03\n",
      " -3.0317164e-03 -7.1629370e-03  7.0962133e-03  1.9015349e-03\n",
      "  5.1992359e-03  6.3811089e-03  1.9122792e-03 -6.1276113e-03\n",
      " -6.2966346e-06  8.2682976e-03 -6.0985480e-03  9.4382809e-03]\n"
     ]
    }
   ],
   "source": [
    "from gensim.models import Word2Vec\n",
    "from gensim.utils import simple_preprocess\n",
    "\n",
    "# Sample medical corpus (replace with your dataset)\n",
    "corpus = [\n",
    "    \"surgery requires precision and expertise\",\n",
    "    \"diagnosis of cancer involves biopsy\",\n",
    "    \"patient recovery depends on treatment\"\n",
    "]\n",
    "tokenized_corpus = [simple_preprocess(sentence) for sentence in corpus]\n",
    "\n",
    "# Train Word2Vec\n",
    "model = Word2Vec(sentences=tokenized_corpus, vector_size=100, window=5, min_count=1, sg=1)\n",
    "\n",
    "# Analyze embeddings\n",
    "print(model.wv.most_similar(\"surgery\", topn=3))  # Check similar words\n",
    "print(model.wv[\"surgery\"])  # View vector for \"surgery\""
   ]
  }
 ],
 "metadata": {
  "kernelspec": {
   "display_name": "gpu",
   "language": "python",
   "name": "python3"
  },
  "language_info": {
   "codemirror_mode": {
    "name": "ipython",
    "version": 3
   },
   "file_extension": ".py",
   "mimetype": "text/x-python",
   "name": "python",
   "nbconvert_exporter": "python",
   "pygments_lexer": "ipython3",
   "version": "3.12.9"
  }
 },
 "nbformat": 4,
 "nbformat_minor": 2
}
