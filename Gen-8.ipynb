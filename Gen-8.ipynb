{
 "cells": [
  {
   "cell_type": "code",
   "execution_count": 1,
   "id": "7623c63d",
   "metadata": {},
   "outputs": [
    {
     "name": "stdout",
     "output_type": "stream",
     "text": [
      "Requirement already satisfied: gensim in c:\\users\\yoge8\\anaconda3\\envs\\gpu\\lib\\site-packages (4.3.3)\n",
      "Requirement already satisfied: scikit-learn in c:\\users\\yoge8\\anaconda3\\envs\\gpu\\lib\\site-packages (1.6.1)\n",
      "Requirement already satisfied: numpy in c:\\users\\yoge8\\anaconda3\\envs\\gpu\\lib\\site-packages (1.26.4)\n",
      "Requirement already satisfied: scipy<1.14.0,>=1.7.0 in c:\\users\\yoge8\\anaconda3\\envs\\gpu\\lib\\site-packages (from gensim) (1.13.1)\n",
      "Requirement already satisfied: smart-open>=1.8.1 in c:\\users\\yoge8\\anaconda3\\envs\\gpu\\lib\\site-packages (from gensim) (7.1.0)\n",
      "Requirement already satisfied: joblib>=1.2.0 in c:\\users\\yoge8\\anaconda3\\envs\\gpu\\lib\\site-packages (from scikit-learn) (1.5.1)\n",
      "Requirement already satisfied: threadpoolctl>=3.1.0 in c:\\users\\yoge8\\anaconda3\\envs\\gpu\\lib\\site-packages (from scikit-learn) (3.6.0)\n",
      "Requirement already satisfied: wrapt in c:\\users\\yoge8\\anaconda3\\envs\\gpu\\lib\\site-packages (from smart-open>=1.8.1->gensim) (1.17.2)\n"
     ]
    }
   ],
   "source": [
    "!pip install gensim scikit-learn numpy"
   ]
  },
  {
   "cell_type": "code",
   "execution_count": 2,
   "id": "884ea7d0",
   "metadata": {},
   "outputs": [
    {
     "name": "stdout",
     "output_type": "stream",
     "text": [
      "Requirement already satisfied: gensim in c:\\users\\yoge8\\anaconda3\\envs\\gpu\\lib\\site-packages (4.3.3)\n",
      "Requirement already satisfied: scikit-learn in c:\\users\\yoge8\\anaconda3\\envs\\gpu\\lib\\site-packages (1.6.1)\n",
      "Requirement already satisfied: numpy in c:\\users\\yoge8\\anaconda3\\envs\\gpu\\lib\\site-packages (1.26.4)\n",
      "Requirement already satisfied: scipy<1.14.0,>=1.7.0 in c:\\users\\yoge8\\anaconda3\\envs\\gpu\\lib\\site-packages (from gensim) (1.13.1)\n",
      "Requirement already satisfied: smart-open>=1.8.1 in c:\\users\\yoge8\\anaconda3\\envs\\gpu\\lib\\site-packages (from gensim) (7.1.0)\n",
      "Requirement already satisfied: joblib>=1.2.0 in c:\\users\\yoge8\\anaconda3\\envs\\gpu\\lib\\site-packages (from scikit-learn) (1.5.1)\n",
      "Requirement already satisfied: threadpoolctl>=3.1.0 in c:\\users\\yoge8\\anaconda3\\envs\\gpu\\lib\\site-packages (from scikit-learn) (3.6.0)\n",
      "Requirement already satisfied: wrapt in c:\\users\\yoge8\\anaconda3\\envs\\gpu\\lib\\site-packages (from smart-open>=1.8.1->gensim) (1.17.2)\n",
      "Analogy Results:\n",
      "king - man + queen = queen (Expected: woman)\n",
      "paris - france + berlin = berlin (Expected: germany)\n",
      "big - bigger + small = small (Expected: smaller)\n",
      "Accuracy: 0.0000\n",
      "\n",
      "Similarity Results:\n",
      "'cat' vs 'dog': 0.8798\n",
      "'computer' vs 'keyboard': 0.5418\n",
      "'happy' vs 'joyful': 0.5260\n"
     ]
    }
   ],
   "source": [
    "!pip install gensim scikit-learn numpy\n",
    "import gensim.downloader as api\n",
    "import numpy as np\n",
    "from sklearn.metrics.pairwise import cosine_similarity\n",
    "\n",
    "# Load GloVe model\n",
    "word_vectors = api.load(\"glove-wiki-gigaword-100\")\n",
    "\n",
    "# Analogy tasks\n",
    "analogy_tasks = [\n",
    "    (\"king\", \"man\", \"queen\", \"woman\"),\n",
    "    (\"paris\", \"france\", \"berlin\", \"germany\"),\n",
    "    (\"big\", \"bigger\", \"small\", \"smaller\")\n",
    "]\n",
    "\n",
    "# Evaluate analogy\n",
    "def evaluate_analogy(word_vectors, task):\n",
    "    a, b, c, d = task\n",
    "    try:\n",
    "        predicted_vector = word_vectors[a] - word_vectors[b] + word_vectors[c]\n",
    "        predicted_word = word_vectors.most_similar([predicted_vector], topn=1)[0][0]\n",
    "        return predicted_word == d, predicted_word\n",
    "    except KeyError as e:\n",
    "        return False, f\"Error: {e} not in vocab\"\n",
    "\n",
    "# Run analogy tasks\n",
    "correct = 0\n",
    "print(\"Analogy Results:\")\n",
    "for task in analogy_tasks:\n",
    "    is_correct, result = evaluate_analogy(word_vectors, task)\n",
    "    print(f\"{task[0]} - {task[1]} + {task[2]} = {result} (Expected: {task[3]})\")\n",
    "    if is_correct:\n",
    "        correct += 1\n",
    "print(f\"Accuracy: {correct / len(analogy_tasks):.4f}\")\n",
    "\n",
    "# Evaluate similarity\n",
    "def evaluate_similarity(word_vectors, word_pairs):\n",
    "    similarities = []\n",
    "    for w1, w2 in word_pairs:\n",
    "        try:\n",
    "            sim = word_vectors.similarity(w1, w2)\n",
    "            similarities.append((w1, w2, sim))\n",
    "        except KeyError as e:\n",
    "            print(f\"Error: {e} not in vocab\")\n",
    "    return similarities\n",
    "\n",
    "# Word pairs for similarity\n",
    "word_pairs = [\n",
    "    (\"cat\", \"dog\"),\n",
    "    (\"computer\", \"keyboard\"),\n",
    "    (\"happy\", \"joyful\")\n",
    "]\n",
    "\n",
    "# Run similarity evaluation\n",
    "print(\"\\nSimilarity Results:\")\n",
    "similarities = evaluate_similarity(word_vectors, word_pairs)\n",
    "for w1, w2, sim in similarities:\n",
    "    print(f\"'{w1}' vs '{w2}': {sim:.4f}\")\n",
    "    "
   ]
  }
 ],
 "metadata": {
  "kernelspec": {
   "display_name": "gpu",
   "language": "python",
   "name": "python3"
  },
  "language_info": {
   "codemirror_mode": {
    "name": "ipython",
    "version": 3
   },
   "file_extension": ".py",
   "mimetype": "text/x-python",
   "name": "python",
   "nbconvert_exporter": "python",
   "pygments_lexer": "ipython3",
   "version": "3.12.9"
  }
 },
 "nbformat": 4,
 "nbformat_minor": 5
}
